{
 "cells": [
  {
   "cell_type": "code",
   "execution_count": 24,
   "metadata": {},
   "outputs": [
    {
     "name": "stdout",
     "output_type": "stream",
     "text": [
      "Total Votes: 3521001\n",
      "Khan        2218231\n",
      "Correy       704200\n",
      "Li           492940\n",
      "O'Tooley     105630\n",
      "Name: Candidate, dtype: int64\n",
      "------------------------------------------------------------\n",
      "Winner: \n"
     ]
    },
    {
     "data": {
      "text/plain": [
       "0    Khan\n",
       "dtype: object"
      ]
     },
     "execution_count": 24,
     "metadata": {},
     "output_type": "execute_result"
    }
   ],
   "source": [
    "import os\n",
    "import csv\n",
    "import pandas as pd\n",
    "csv_path = \"Resources/election_data.csv\"\n",
    "election_df = pd.read_csv(csv_path,encoding=\"utf-8\")\n",
    "election_data = \"Resources/election_data.csv\"\n",
    "election_data_pd = pd.read_csv(election_data)\n",
    "print(f'Total Votes: {len(election_data_pd[\"Voter ID\"])}')\n",
    "\n",
    "print(election_data_pd['Candidate'].value_counts())\n",
    "\n",
    "print( '-'*60)\n",
    "      \n",
    "print(f'Winner: ')\n",
    "\n",
    "election_data_pd['Candidate'].mode()\n"
   ]
  },
  {
   "cell_type": "code",
   "execution_count": null,
   "metadata": {},
   "outputs": [],
   "source": []
  },
  {
   "cell_type": "code",
   "execution_count": null,
   "metadata": {},
   "outputs": [],
   "source": []
  }
 ],
 "metadata": {
  "kernelspec": {
   "display_name": "Python 3",
   "language": "python",
   "name": "python3"
  },
  "language_info": {
   "codemirror_mode": {
    "name": "ipython",
    "version": 3
   },
   "file_extension": ".py",
   "mimetype": "text/x-python",
   "name": "python",
   "nbconvert_exporter": "python",
   "pygments_lexer": "ipython3",
   "version": "3.7.1"
  }
 },
 "nbformat": 4,
 "nbformat_minor": 2
}
